{
 "cells": [
  {
   "attachments": {},
   "cell_type": "markdown",
   "metadata": {
    "collapsed": true
   },
   "source": [
    "\n",
    "# FreshSTock\n",
    "\n",
    "**Codes will be implemented here:**\n"
   ]
  },
  {
   "cell_type": "code",
   "execution_count": null,
   "metadata": {
    "collapsed": true
   },
   "outputs": [
    {
     "name": "stdout",
     "output_type": "stream",
     "text": [
      "\n",
      "Menu:\n",
      "1. Add item to fridge\n",
      "2. Remove item from fridge\n",
      "3. Display fridge\n",
      "4. Display shopping list\n",
      "5. Generate shopping list\n",
      "6. Exit\n",
      "milk (1) added to the fridge.\n",
      "\n",
      "Menu:\n",
      "1. Add item to fridge\n",
      "2. Remove item from fridge\n",
      "3. Display fridge\n",
      "4. Display shopping list\n",
      "5. Generate shopping list\n",
      "6. Exit\n",
      "\n",
      "Fridge Contents:\n",
      "milk: 1 items\n",
      "\n",
      "Menu:\n",
      "1. Add item to fridge\n",
      "2. Remove item from fridge\n",
      "3. Display fridge\n",
      "4. Display shopping list\n",
      "5. Generate shopping list\n",
      "6. Exit\n",
      "\n",
      "Fridge Contents:\n",
      "milk: 1 items\n",
      "\n",
      "Menu:\n",
      "1. Add item to fridge\n",
      "2. Remove item from fridge\n",
      "3. Display fridge\n",
      "4. Display shopping list\n",
      "5. Generate shopping list\n",
      "6. Exit\n",
      "Goodbye!\n"
     ]
    }
   ],
   "source": []
  },
  {
   "cell_type": "markdown",
   "metadata": {},
   "source": []
  }
 ],
 "metadata": {
  "kernelspec": {
   "display_name": "Python 3",
   "language": "python",
   "name": "python3"
  },
  "language_info": {
   "codemirror_mode": {
    "name": "ipython",
    "version": 3
   },
   "file_extension": ".py",
   "mimetype": "text/x-python",
   "name": "python",
   "nbconvert_exporter": "python",
   "pygments_lexer": "ipython3",
   "version": "3.13.1"
  }
 },
 "nbformat": 4,
 "nbformat_minor": 1
}
